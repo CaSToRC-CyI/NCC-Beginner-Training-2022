{
  "nbformat": 4,
  "nbformat_minor": 0,
  "metadata": {
    "colab": {
      "provenance": [],
      "toc_visible": true
    },
    "kernelspec": {
      "name": "python3",
      "display_name": "Python 3"
    },
    "language_info": {
      "name": "python"
    }
  },
  "cells": [
    {
      "cell_type": "markdown",
      "source": [
        "# Introduction to Performance in Python"
      ],
      "metadata": {
        "id": "gLn0hIc1ORAG"
      }
    },
    {
      "cell_type": "markdown",
      "source": [
        "**Author: Simone Bacchio**\n",
        "\n",
        "This notebook is part of the Beginner Training event 2022 by NCC Cyprus.\n",
        "\n",
        "Details on the training can be found at https://castorc.cyi.ac.cy/hpcb2022\n",
        "\n",
        "Presentations and source code is available at https://github.com/CaSToRC-CyI/NCC-Beginner-Training-2022\n"
      ],
      "metadata": {
        "id": "aaMr95VbO2KB"
      }
    },
    {
      "cell_type": "markdown",
      "source": [
        "## Performance"
      ],
      "metadata": {
        "id": "6vgZwtPvAKqs"
      }
    },
    {
      "cell_type": "markdown",
      "source": [
        "It is very important to understand performanc limitations in Python and how to overcome them.\n",
        "\n",
        "In this section we analyze the performance of a very simple operation: the addition of two arrays\n",
        "\n",
        "$$z = x + y$$"
      ],
      "metadata": {
        "id": "gTCMf3f8I0w1"
      }
    },
    {
      "cell_type": "code",
      "source": [
        "def add1(x1, x2):\n",
        "    \"Add with direct memory access and list extension\"\n",
        "    y = []\n",
        "    for i in range(len(x1)):\n",
        "        y.append(x1[i] + x2[i])\n",
        "    return y\n",
        "\n",
        "\n",
        "def add2(x1, x2):\n",
        "    \"Add with indirect memory access and list extension\"\n",
        "    y = []\n",
        "    for i1, i2 in zip(x1, x2):\n",
        "        y.append(i1 + i2)\n",
        "    return y\n",
        "\n",
        "\n",
        "def add3(x1, x2):\n",
        "    \"Add with indirect memory access and list generation\"\n",
        "    return [i1 + i2 for i1, i2 in zip(x1, x2)]\n",
        "\n",
        "\n",
        "def add4(x1, x2):\n",
        "    \"Add with buit-in numpy function\"\n",
        "    return x1 + x2"
      ],
      "metadata": {
        "id": "oDf-PmrTAN-x"
      },
      "execution_count": null,
      "outputs": []
    },
    {
      "cell_type": "code",
      "source": [
        "import numpy as np\n",
        "from timeit import timeit\n",
        "from pandas import DataFrame\n",
        "\n",
        "# Running over sizes that are powers of 2\n",
        "times = DataFrame(index=[2 ** i for i in range(12)])\n",
        "\n",
        "# Collecting data for the 4 types of add\n",
        "for size in times.index:\n",
        "    x1, x2 = np.random.rand(2, size)\n",
        "    for add in [\n",
        "        add1,\n",
        "        add2,\n",
        "        add3,\n",
        "        add4,\n",
        "    ]:\n",
        "        times.at[size, add.__name__] = timeit(lambda: add(x1, x2), number=1000)"
      ],
      "metadata": {
        "id": "VivrI-6CJCJH"
      },
      "execution_count": null,
      "outputs": []
    },
    {
      "cell_type": "code",
      "source": [
        "# Dropping column 4 for not ruining the surprise\n",
        "times.drop(columns=[\"add4\"])"
      ],
      "metadata": {
        "id": "8a1M0cXeVbB6"
      },
      "execution_count": null,
      "outputs": []
    },
    {
      "cell_type": "code",
      "source": [
        "times.drop(columns=[\"add4\"]).plot(ylabel=\"Time x1000 [seconds]\", xlabel=\"Size\")"
      ],
      "metadata": {
        "id": "_Swe9Th2VX6i"
      },
      "execution_count": null,
      "outputs": []
    },
    {
      "cell_type": "code",
      "source": [
        "times.plot(ylabel=\"Time x1000 [seconds]\", xlabel=\"Size\")"
      ],
      "metadata": {
        "id": "u5UFVm4rQnXG"
      },
      "execution_count": null,
      "outputs": []
    },
    {
      "cell_type": "code",
      "source": [
        "times.plot(logx=True, logy=True, ylabel=\"Time x1000 [seconds]\", xlabel=\"Size\")"
      ],
      "metadata": {
        "id": "QmyESM2IJcZQ"
      },
      "execution_count": null,
      "outputs": []
    },
    {
      "cell_type": "code",
      "source": [
        "perf = times.apply(lambda x: np.array(times.index) / x)\n",
        "perf.plot(logx=True, logy=True, ylabel=\"kFLOPS\", xlabel=\"Size\")"
      ],
      "metadata": {
        "id": "0CR3CfzMJdzf"
      },
      "execution_count": null,
      "outputs": []
    },
    {
      "cell_type": "code",
      "source": [
        "times = DataFrame(index=[2 ** i for i in range(20)])\n",
        "\n",
        "for size in times.index:\n",
        "    x1, x2 = np.random.rand(2, size)\n",
        "    for add in [\n",
        "        add4,\n",
        "    ]:\n",
        "        times.at[size, add.__name__] = timeit(lambda: add(x1, x2), number=1000)\n",
        "\n",
        "times.plot(logx=True, logy=True, ylabel=\"Time x1000 [seconds]\", xlabel=\"Size\")"
      ],
      "metadata": {
        "id": "4Ya7-n5MJFmt"
      },
      "execution_count": null,
      "outputs": []
    },
    {
      "cell_type": "code",
      "source": [
        "perf = times.apply(lambda x: np.array(times.index) / x)\n",
        "perf.plot(logx=True, logy=True, ylabel=\"kFLOPS\", xlabel=\"Size\")"
      ],
      "metadata": {
        "id": "59vceP5uJGfN"
      },
      "execution_count": null,
      "outputs": []
    },
    {
      "cell_type": "markdown",
      "source": [
        "## Introduction to Numpy"
      ],
      "metadata": {
        "id": "_yEa3R2gKqsa"
      }
    },
    {
      "cell_type": "code",
      "source": [
        "import numpy as np"
      ],
      "metadata": {
        "id": "rcvQ2uUgJ3_s"
      },
      "execution_count": null,
      "outputs": []
    },
    {
      "cell_type": "markdown",
      "source": [
        "### Array creation"
      ],
      "metadata": {
        "id": "2dLdcUeeJxyl"
      }
    },
    {
      "cell_type": "markdown",
      "source": [
        "An array can be easily created from a list of data"
      ],
      "metadata": {
        "id": "7p5j_J4aXLCo"
      }
    },
    {
      "cell_type": "code",
      "source": [
        "arr = np.array([1,2,3,4])\n",
        "arr"
      ],
      "metadata": {
        "id": "bOzmq5BSsYC9"
      },
      "execution_count": null,
      "outputs": []
    },
    {
      "cell_type": "markdown",
      "source": [
        "`shape` and `dtype` are deduced from the data itself"
      ],
      "metadata": {
        "id": "5ubmpBClXQrh"
      }
    },
    {
      "cell_type": "code",
      "source": [
        "arr.shape"
      ],
      "metadata": {
        "id": "FemI1MFIsz1X"
      },
      "execution_count": null,
      "outputs": []
    },
    {
      "cell_type": "code",
      "source": [
        "arr.dtype"
      ],
      "metadata": {
        "id": "yyKl6vfTs5ga"
      },
      "execution_count": null,
      "outputs": []
    },
    {
      "cell_type": "markdown",
      "source": [
        "These paramters can be changed respectively with `reshape` and `astype`"
      ],
      "metadata": {
        "id": "QnJc1Q0fXb3r"
      }
    },
    {
      "cell_type": "code",
      "source": [
        "arr.reshape(2,2)"
      ],
      "metadata": {
        "id": "DgboBnX6XmCp"
      },
      "execution_count": null,
      "outputs": []
    },
    {
      "cell_type": "code",
      "source": [
        "arr.astype(\"int32\")"
      ],
      "metadata": {
        "id": "rrum9FzpXsaB"
      },
      "execution_count": null,
      "outputs": []
    },
    {
      "cell_type": "markdown",
      "source": [
        "### How does it work?\n",
        "\n",
        "Nd-arrays are always a \"view\" of **unrolled data**.\n",
        "\n",
        "- Data are stored sequentially in a C-style pointer and processed all at once\n",
        "- The Nd view of the pointer allows from high dynamism on the the Python side"
      ],
      "metadata": {
        "id": "_zlKGUKbYvvR"
      }
    },
    {
      "cell_type": "code",
      "source": [
        "arr.__array_interface__"
      ],
      "metadata": {
        "id": "8YnbbPHqtIgJ"
      },
      "execution_count": null,
      "outputs": []
    },
    {
      "cell_type": "code",
      "source": [
        "arr2 = arr.reshape(2,2)\n",
        "arr2"
      ],
      "metadata": {
        "id": "d9NuSlWrtcAH"
      },
      "execution_count": null,
      "outputs": []
    },
    {
      "cell_type": "code",
      "source": [
        "arr2.__array_interface__"
      ],
      "metadata": {
        "id": "jgZkKKdttxQg"
      },
      "execution_count": null,
      "outputs": []
    },
    {
      "cell_type": "markdown",
      "source": [
        "Reshaped data indeed share the same pointer! But they are two different objects in Python"
      ],
      "metadata": {
        "id": "Tuf0Qx9JaX67"
      }
    },
    {
      "cell_type": "code",
      "source": [
        "arr is arr2"
      ],
      "metadata": {
        "id": "hKw88gbLtquz"
      },
      "execution_count": null,
      "outputs": []
    },
    {
      "cell_type": "code",
      "source": [
        "arr == arr2"
      ],
      "metadata": {
        "id": "OX-fLR7ZakWB"
      },
      "execution_count": null,
      "outputs": []
    },
    {
      "cell_type": "markdown",
      "source": [
        "Numpy tries as most as possible to not create copies of arrays (e.g. with `transpose` in the following) and you need to be well aware of this because editing arrays in-place might change the content also of other arrays!"
      ],
      "metadata": {
        "id": "Jq5sfRS1a8Y9"
      }
    },
    {
      "cell_type": "code",
      "source": [
        "arr3 = arr2.transpose()\n",
        "arr3"
      ],
      "metadata": {
        "id": "njvcJgJ2uQ0U"
      },
      "execution_count": null,
      "outputs": []
    },
    {
      "cell_type": "code",
      "source": [
        "arr3.__array_interface__"
      ],
      "metadata": {
        "id": "OfG1mbGEuWu7"
      },
      "execution_count": null,
      "outputs": []
    },
    {
      "cell_type": "markdown",
      "source": [
        "## Item accessing"
      ],
      "metadata": {
        "id": "jjMBldsd46AV"
      }
    },
    {
      "cell_type": "code",
      "source": [
        "flat = np.arange(90)"
      ],
      "metadata": {
        "id": "bzeXWNmTCDao"
      },
      "execution_count": null,
      "outputs": []
    },
    {
      "cell_type": "code",
      "source": [
        "arr = flat.reshape(10,9)\n",
        "arr"
      ],
      "metadata": {
        "id": "gZbhIWe36mu3"
      },
      "execution_count": null,
      "outputs": []
    },
    {
      "cell_type": "markdown",
      "source": [
        "The indeces go from slowest (left) to fastest (right) running indeces.\n",
        "\n",
        "E.g. for a matrix the first selects a row"
      ],
      "metadata": {
        "id": "NTUR2u7NCK_h"
      }
    },
    {
      "cell_type": "code",
      "source": [
        "arr[0]"
      ],
      "metadata": {
        "id": "LRczQ40t6eJl"
      },
      "execution_count": null,
      "outputs": []
    },
    {
      "cell_type": "markdown",
      "source": [
        "and the second index selects a column"
      ],
      "metadata": {
        "id": "k2W-VEEUCfMv"
      }
    },
    {
      "cell_type": "code",
      "source": [
        "arr[:,0]"
      ],
      "metadata": {
        "id": "VHs593lb6fs8"
      },
      "execution_count": null,
      "outputs": []
    },
    {
      "cell_type": "markdown",
      "source": [
        "The colon symbol `:`, alone or with number left OR right, is a slice, namely a range with open end(s).\n",
        "\n",
        "A colon with numbers left AND right is a range."
      ],
      "metadata": {
        "id": "beeH26FMCu5_"
      }
    },
    {
      "cell_type": "code",
      "source": [
        "arr[2:4, :4]"
      ],
      "metadata": {
        "id": "x-JEYLjqGSj5"
      },
      "execution_count": null,
      "outputs": []
    },
    {
      "cell_type": "markdown",
      "source": [
        "`None` can be used for inserting new axes and `...` (`Ellipsis`) to dynamically skip axes. E.g."
      ],
      "metadata": {
        "id": "yakLXw0TGgpQ"
      }
    },
    {
      "cell_type": "code",
      "source": [
        "arr[None].shape"
      ],
      "metadata": {
        "id": "dG--E7HLGdRM"
      },
      "execution_count": null,
      "outputs": []
    },
    {
      "cell_type": "code",
      "source": [
        "arr[..., None].shape"
      ],
      "metadata": {
        "id": "qWMK8QG0HBwJ"
      },
      "execution_count": null,
      "outputs": []
    },
    {
      "cell_type": "markdown",
      "source": [
        "Setting values follows the same rules, but needs to be followed by assignment, e.g."
      ],
      "metadata": {
        "id": "Dyl4ECnbHNPe"
      }
    },
    {
      "cell_type": "code",
      "source": [
        "arr[2:5, 4:6]=0\n",
        "arr"
      ],
      "metadata": {
        "id": "9lF7lZzL6kp9"
      },
      "execution_count": null,
      "outputs": []
    },
    {
      "cell_type": "markdown",
      "source": [
        "**Note** that this changes values IN-PLACE, and therefore any array pointing to the same data are changed. E.g. the original flat array has also change"
      ],
      "metadata": {
        "id": "IWLQLYOWHmiT"
      }
    },
    {
      "cell_type": "code",
      "source": [
        "flat"
      ],
      "metadata": {
        "id": "Flu8seIJ624l"
      },
      "execution_count": null,
      "outputs": []
    },
    {
      "cell_type": "markdown",
      "source": [
        "Same is true for operations that assign value, e.g. `+=`, `-=`, `*=`, `/=`, ..."
      ],
      "metadata": {
        "id": "4ciE6M1_H3xo"
      }
    },
    {
      "cell_type": "code",
      "source": [
        "arr+=1\n",
        "arr"
      ],
      "metadata": {
        "id": "UMGQFpJo7Bek"
      },
      "execution_count": null,
      "outputs": []
    },
    {
      "cell_type": "code",
      "source": [
        "flat"
      ],
      "metadata": {
        "id": "_Rn1tJQt7XCV"
      },
      "execution_count": null,
      "outputs": []
    },
    {
      "cell_type": "markdown",
      "source": [
        "### Exercise\n",
        "\n",
        "Write two functions, `get_rows` and `get_columns`, that get a two dimensional array as parameter. They should return the list of rows and columns of the array, respectively. The rows and columns should be one dimensional arrays. You may use the transpose operation, which flips rows to columns, in your solution. The transpose is done by the `T` method:"
      ],
      "metadata": {
        "id": "vxC1aZu_2tR6"
      }
    },
    {
      "cell_type": "code",
      "source": [
        "print(arr)\n",
        "print(arr.T)"
      ],
      "metadata": {
        "id": "J3k4YjTt28Hn"
      },
      "execution_count": null,
      "outputs": []
    },
    {
      "cell_type": "code",
      "source": [
        "def get_row(arr):\n",
        "    \"Returns list of rows of a matrix\"\n",
        "    # Complete\n",
        "    return arr\n",
        "\n",
        "def get_columns(arr):\n",
        "    \"Returns list of columns of a matrix\"\n",
        "    # Complete\n",
        "    return arr\n",
        "    "
      ],
      "metadata": {
        "id": "bGlnqS_X3Npa"
      },
      "execution_count": null,
      "outputs": []
    },
    {
      "cell_type": "markdown",
      "source": [
        "**Extra:** Create function `get_row_vectors` that returns a list of rows from the input array of shape `(n,m)`, but this time the rows must have shape `(1,m)`. Similarly, create function `get_columns_vectors` that returns a list of columns (each having shape `(n,1)`) of the input matrix .\n",
        "\n",
        "**Example:** for a 2x3 input matrix\n",
        "```python\n",
        "[[5 0 3]\n",
        " [3 7 9]]\n",
        "```\n",
        "the result should be\n",
        "```python\n",
        "Row vectors:\n",
        "[array([[5, 0, 3]]), array([[3, 7, 9]])]\n",
        "Column vectors:\n",
        "[array([[5],\n",
        "        [3]]),\n",
        " array([[0],\n",
        "        [7]]),\n",
        " array([[3],\n",
        "        [9]])]\n",
        "```"
      ],
      "metadata": {
        "id": "nmcx_nC73ucc"
      }
    },
    {
      "cell_type": "code",
      "source": [
        "def get_row_vector(arr):\n",
        "    \"Returns list of row-vectors of a matrix\"\n",
        "    # Complete\n",
        "    return arr\n",
        "\n",
        "def get_columns_vector(arr):\n",
        "    \"Returns list of column-vectors of a matrix\"\n",
        "    # Complete\n",
        "    return arr"
      ],
      "metadata": {
        "id": "dHO4g0ut4Ri8"
      },
      "execution_count": null,
      "outputs": []
    },
    {
      "cell_type": "markdown",
      "source": [
        "## Vectorized Universal functions"
      ],
      "metadata": {
        "id": "7r6pG62zy_pZ"
      }
    },
    {
      "cell_type": "markdown",
      "source": [
        "Element-wise functions are called universal functions.\n",
        "\n",
        "These can be \n",
        "\n",
        "- unary functions, e.g. `np.sqrt`, `np.exp`, `np.cos`, ...\n",
        "- binary functions, e.g. `+` or `np.add`, `*` or `np.mul`, ...\n",
        "- reduction functions, e.g. `np.sum`, `np.prod`, `np.min`, ...\n",
        "\n"
      ],
      "metadata": {
        "id": "ONXzU88T5mAf"
      }
    },
    {
      "cell_type": "code",
      "source": [
        "arr1 = np.ones(10)\n",
        "\n",
        "# E.g.\n",
        "arr2 = arr1 + 2\n",
        "arr3 = arr1 + arr2\n",
        "np.sqrt(arr3)"
      ],
      "metadata": {
        "id": "lX6Kl-cw0MWf"
      },
      "execution_count": null,
      "outputs": []
    },
    {
      "cell_type": "code",
      "source": [
        "arr3.sum()"
      ],
      "metadata": {
        "id": "ZN3A3kzQFbVG"
      },
      "execution_count": null,
      "outputs": []
    },
    {
      "cell_type": "markdown",
      "source": [
        "Very important is the keyword `axis` that allows to specify the axis (or axes) along which perform an operation.\n",
        "\n",
        "```python\n",
        "# creating a shape-(3,2) array\n",
        ">>> x = np.array([[0, 1],\n",
        "...               [2, 3],\n",
        "...               [4, 5]])\n",
        "\n",
        "# sum over all axes\n",
        ">>> np.sum(x)  # equivalent: x.sum(axis=0)\n",
        "15\n",
        "\n",
        "# sum over axis-0, within axis-1\n",
        "# i.e. sum over the rows, within each column\n",
        ">>> np.sum(x, axis=0)  # equivalent: x.sum(axis=0)\n",
        "array([6, 9])\n",
        "\n",
        "# sum over axis-1, within axis-0\n",
        "# i.e. sum over the columns, within each row\n",
        ">>> np.sum(x, axis=1)  # equivalent: x.sum(axis=1)\n",
        "array([1, 5, 9])\n",
        "\n",
        "# negative axis-indices can be used too\n",
        ">>> np.sum(x, axis=-1)  # equivalent: np.sum(x, axis=1)\n",
        "array([1, 5, 9])\n",
        "\n",
        "# sum over axis-0 and axis-1\n",
        "# i.e. sum the array as if it were a 1D sequence (default behavior)\n",
        ">>> np.sum(x, axis=(0, 1))  # equivalent: x.sum(axis=(0, 1))\n",
        "15\n",
        "```"
      ],
      "metadata": {
        "id": "qC6knNERFd4U"
      }
    },
    {
      "cell_type": "markdown",
      "source": [
        "### Exercise:\n",
        "\n",
        "Let $x$ and $y$ be m-dimensional vectors. The angle $\\alpha$ between two vectors is defined by the equation \n",
        "$$\\cos_{xy}(\\alpha) = \\frac{<x,y>}{|x||y|},$$\n",
        "where the angle brackets denote the inner product, and $|x| = \\sqrt{<x,x>}$.\n",
        "\n",
        "Write function `vector_angles` that gets two arrays `X` and `Y` with same shape `(n,m)` as parameters. Each row in the arrays corresponds to a vector. The function should return vector of shape `(n,)` with the corresponding angles between vectors of `X` and `Y` in degrees, not in radians. Don’t use loops, but use vectorized operations."
      ],
      "metadata": {
        "id": "FSshazDEIpNj"
      }
    },
    {
      "cell_type": "code",
      "source": [
        "def cosxy(x,y):\n",
        "    \"Returns the cos of the angle between two vectors\"\n",
        "    # Compute the norms xx, yy, xy\n",
        "    return xy/(xx*yy)**0.5"
      ],
      "metadata": {
        "id": "ISfPikL27F-T"
      },
      "execution_count": null,
      "outputs": []
    },
    {
      "cell_type": "markdown",
      "source": [
        "## Broadcasting"
      ],
      "metadata": {
        "id": "6V5nTJqY13Ev"
      }
    },
    {
      "cell_type": "code",
      "source": [
        "arr1 = np.arange(3)\n",
        "arr1"
      ],
      "metadata": {
        "id": "GrCES_6C3lpr"
      },
      "execution_count": null,
      "outputs": []
    },
    {
      "cell_type": "code",
      "source": [
        "arr2 = np.zeros((3,3))\n",
        "arr2"
      ],
      "metadata": {
        "id": "en4idRe-3o1-"
      },
      "execution_count": null,
      "outputs": []
    },
    {
      "cell_type": "code",
      "source": [
        "arr1+arr2"
      ],
      "metadata": {
        "id": "tzwUWyrj3vtd"
      },
      "execution_count": null,
      "outputs": []
    },
    {
      "cell_type": "code",
      "source": [
        "arr3 = arr1[:,None]\n",
        "arr3"
      ],
      "metadata": {
        "id": "vYUPGpx232wc"
      },
      "execution_count": null,
      "outputs": []
    },
    {
      "cell_type": "code",
      "source": [
        "arr2 + arr3"
      ],
      "metadata": {
        "id": "gKqKDvsq37D9"
      },
      "execution_count": null,
      "outputs": []
    },
    {
      "cell_type": "code",
      "source": [
        "arr1.shape, arr3.shape, (arr1+arr3).shape"
      ],
      "metadata": {
        "id": "yq4Kvx6p3-7L"
      },
      "execution_count": null,
      "outputs": []
    },
    {
      "cell_type": "code",
      "source": [
        "arr1+arr3"
      ],
      "metadata": {
        "id": "xb4XADtw4F8s"
      },
      "execution_count": null,
      "outputs": []
    },
    {
      "cell_type": "code",
      "source": [
        "x = np.arange(1,11)\n",
        "x"
      ],
      "metadata": {
        "id": "vUQq92er4Z4y"
      },
      "execution_count": null,
      "outputs": []
    },
    {
      "cell_type": "code",
      "source": [
        "prods = x * x[:, None]\n",
        "prods"
      ],
      "metadata": {
        "id": "wz68izUL4iYF"
      },
      "execution_count": null,
      "outputs": []
    },
    {
      "cell_type": "markdown",
      "source": [
        "## Additional information and Numba\n",
        "\n",
        "E.g. how to perfmorm `x[i+1] - x[i]` ?"
      ],
      "metadata": {
        "id": "zNaiRMzONV8B"
      }
    },
    {
      "cell_type": "code",
      "source": [
        "arr = np.arange(10)\n",
        "\n",
        "N = len(arr)\n",
        "out = np.zeros_like(arr)\n",
        "for i in range(N):\n",
        "    out[i] = arr[(i+1)%N] - arr[i]\n",
        "out"
      ],
      "metadata": {
        "id": "IMmtYrsQNjSs"
      },
      "execution_count": null,
      "outputs": []
    },
    {
      "cell_type": "code",
      "source": [
        "arr"
      ],
      "metadata": {
        "id": "7QuJ2KUGPC82"
      },
      "execution_count": null,
      "outputs": []
    },
    {
      "cell_type": "code",
      "source": [
        "np.roll(arr, -1)"
      ],
      "metadata": {
        "id": "pteY6jI7PAJF"
      },
      "execution_count": null,
      "outputs": []
    },
    {
      "cell_type": "code",
      "source": [
        "def difference(arr):\n",
        "    return np.roll(arr, -1) - arr"
      ],
      "metadata": {
        "id": "2tiAp4DfJ6ue"
      },
      "execution_count": null,
      "outputs": []
    },
    {
      "cell_type": "code",
      "source": [
        "from numba import njit, prange\n",
        "\n",
        "@njit#(parallel=True)\n",
        "def difference_numba(arr):\n",
        "    N = arr.shape[0]\n",
        "    out = np.empty_like(arr)\n",
        "    for i in range(N):\n",
        "        out[i] = arr[(i+1)%N] - arr[i]\n",
        "    return out\n",
        "\n",
        "@njit(parallel=True)\n",
        "def difference_numba_par(arr):\n",
        "    N = arr.shape[0]\n",
        "    out = np.empty_like(arr)\n",
        "    for i in prange(N):\n",
        "        out[i] = arr[(i+1)%N] - arr[i]\n",
        "    return out\n",
        "\n"
      ],
      "metadata": {
        "id": "2F2QobIrLFNx"
      },
      "execution_count": null,
      "outputs": []
    },
    {
      "cell_type": "code",
      "source": [
        "difference(np.arange(10))"
      ],
      "metadata": {
        "id": "_qVRZ9-2N0aU"
      },
      "execution_count": null,
      "outputs": []
    },
    {
      "cell_type": "code",
      "source": [
        "difference_numba(np.arange(10))"
      ],
      "metadata": {
        "id": "_TtWl_9nOEyB"
      },
      "execution_count": null,
      "outputs": []
    },
    {
      "cell_type": "code",
      "source": [
        "times = DataFrame(index=[2 ** i for i in range(20)])\n",
        "\n",
        "for size in times.index:\n",
        "    x = np.random.rand(1, size)\n",
        "    for fnc in [\n",
        "        difference,\n",
        "        difference_numba,\n",
        "        difference_numba_par,\n",
        "    ]:\n",
        "        times.at[size, fnc.__name__] = timeit(lambda: fnc(x), number=1000)\n",
        "\n",
        "times.plot(logx=True, logy=True, ylabel=\"Time x1000 [seconds]\", xlabel=\"Size\")"
      ],
      "metadata": {
        "id": "YofBuO_L8mML"
      },
      "execution_count": null,
      "outputs": []
    },
    {
      "cell_type": "code",
      "source": [
        "times.plot(ylabel=\"Time x1000 [seconds]\", xlabel=\"Size\")"
      ],
      "metadata": {
        "id": "F0A9igQHKPgN"
      },
      "execution_count": null,
      "outputs": []
    },
    {
      "cell_type": "code",
      "source": [],
      "metadata": {
        "id": "fvpvf6sNK2ec"
      },
      "execution_count": null,
      "outputs": []
    }
  ]
}